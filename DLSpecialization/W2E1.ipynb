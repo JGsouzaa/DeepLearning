{
  "nbformat": 4,
  "nbformat_minor": 0,
  "metadata": {
    "colab": {
      "provenance": []
    },
    "kernelspec": {
      "name": "python3",
      "display_name": "Python 3"
    },
    "language_info": {
      "name": "python"
    }
  },
  "cells": [
    {
      "cell_type": "code",
      "execution_count": 9,
      "metadata": {
        "id": "kqXmHYaHDZ7y",
        "colab": {
          "base_uri": "https://localhost:8080/"
        },
        "outputId": "e72d795c-9292-4011-e61d-5dbf665f433e"
      },
      "outputs": [
        {
          "output_type": "stream",
          "name": "stdout",
          "text": [
            "2.15.0\n"
          ]
        }
      ],
      "source": [
        "import tensorflow as tf\n",
        "import numpy as np\n",
        "import matplotlib.pyplot as plt\n",
        "from tensorflow import keras\n",
        "print(tf.__version__)"
      ]
    },
    {
      "cell_type": "markdown",
      "source": [
        "Load and preparation of data"
      ],
      "metadata": {
        "id": "F-TNuFhf452-"
      }
    },
    {
      "cell_type": "code",
      "source": [
        "tf_fashionmnist = tf.keras.datasets.fashion_mnist\n",
        "(train_images, train_labels), (test_images, test_labels) = tf_fashionmnist.load_data()"
      ],
      "metadata": {
        "id": "QLVmS_KJDgyr",
        "colab": {
          "base_uri": "https://localhost:8080/"
        },
        "outputId": "adf7ab72-1ac1-426f-873b-523b372f0d3f"
      },
      "execution_count": 3,
      "outputs": [
        {
          "output_type": "stream",
          "name": "stdout",
          "text": [
            "Downloading data from https://storage.googleapis.com/tensorflow/tf-keras-datasets/train-labels-idx1-ubyte.gz\n",
            "29515/29515 [==============================] - 0s 0us/step\n",
            "Downloading data from https://storage.googleapis.com/tensorflow/tf-keras-datasets/train-images-idx3-ubyte.gz\n",
            "26421880/26421880 [==============================] - 0s 0us/step\n",
            "Downloading data from https://storage.googleapis.com/tensorflow/tf-keras-datasets/t10k-labels-idx1-ubyte.gz\n",
            "5148/5148 [==============================] - 0s 0us/step\n",
            "Downloading data from https://storage.googleapis.com/tensorflow/tf-keras-datasets/t10k-images-idx3-ubyte.gz\n",
            "4422102/4422102 [==============================] - 0s 0us/step\n"
          ]
        }
      ]
    },
    {
      "cell_type": "code",
      "source": [
        "index = 53\n",
        "np.set_printoptions(linewidth = 320)\n",
        "print(f'Label: {train_labels[index]}')\n",
        "print(f'\\n Image pixel array: \\n {train_images[index]}')"
      ],
      "metadata": {
        "colab": {
          "base_uri": "https://localhost:8080/"
        },
        "id": "BPZaA0N78GpZ",
        "outputId": "1b5ca9e1-3a66-4959-8f37-ceb209f2f1b9"
      },
      "execution_count": 11,
      "outputs": [
        {
          "output_type": "stream",
          "name": "stdout",
          "text": [
            "Label: 2\n",
            "\n",
            " Image pixel array: \n",
            " [[  0   0   0   0   0   0   0   0   0   0  93 173 136  77  53  73 152 131  10   0   0   0   0   0   0   0   0   0]\n",
            " [  0   0   0   0   0   0   0  74 219 255 255 244 255 238 188 255 250 249 255 252 139   0   0   0   0   0   0   0]\n",
            " [  0   0   0   0   0   0 141 255 255 247 240 241 233 221 211 237 236 241 244 250 255 211   3   0   0   0   0   0]\n",
            " [  0   0   0   0   0  14 249 245 242 244 245 244 247 250 253 245 245 242 242 243 239 255 177   0   0   0   0   0]\n",
            " [  0   0   0   0   0  83 255 241 245 246 246 243 241 243 242 243 245 255 255 244 246 245 238   6   0   0   0   0]\n",
            " [  0   0   0   0   0 138 255 240 246 246 245 244 243 243 245 243 254 202 215 251 243 243 253  28   0   0   0   0]\n",
            " [  0   0   0   0   0 172 255 240 246 245 245 244 243 243 244 241 255 160 137 255 238 242 255  72   0   0   0   0]\n",
            " [  0   0   0   0   0 197 255 241 245 246 245 244 243 243 245 244 247 252 255 246 242 243 255 118   0   0   0   0]\n",
            " [  0   0   0   0   0 206 255 242 246 245 245 243 241 243 243 243 243 243 244 244 241 241 255 149   0   0   0   0]\n",
            " [  0   0   0   0   0 214 254 243 245 245 246 244 243 244 243 243 243 241 243 246 242 241 255 182   0   0   0   0]\n",
            " [  0   0   0   0   0 225 254 245 245 245 246 244 243 244 243 243 243 242 244 245 242 242 255 206   0   0   0   0]\n",
            " [  0   0   0   0   0 226 252 246 245 245 245 243 242 242 243 243 244 242 241 247 242 241 254 237   0   0   0   0]\n",
            " [  0   0   0   0   0 254 251 244 245 245 245 243 243 242 242 243 245 242 237 249 241 243 253 255   0   0   0   0]\n",
            " [  0   0   0   0  11 255 250 245 244 246 244 243 242 242 242 243 244 243 237 247 243 244 254 255   0   0   0   0]\n",
            " [  0   0   0   0  47 255 248 248 242 248 243 244 243 242 242 243 244 245 236 247 244 243 249 255   0   0   0   0]\n",
            " [  0   0   0   0  69 249 248 246 243 247 243 242 240 242 243 243 245 246 236 245 244 245 249 255  19   0   0   0]\n",
            " [  0   0   0   0  80 243 249 246 244 246 242 243 241 243 243 243 245 246 238 242 245 246 250 255  34   0   0   0]\n",
            " [  0   0   0   0 111 242 254 248 244 245 243 245 242 244 243 242 245 246 241 239 246 247 251 255  42   0   0   0]\n",
            " [  0   0   0   0 131 255 252 246 243 243 242 244 242 244 243 243 245 246 242 237 244 245 250 255  50   0   0   0]\n",
            " [  0   0   0   0 121 244 254 254 247 244 241 243 242 244 243 243 244 245 243 236 249 254 248 255  63   0   0   0]\n",
            " [  0   0   0   0 132 242 255 218 248 248 243 244 243 245 242 243 244 244 244 241 230 228 251 255  97   0   0   0]\n",
            " [  0   0   0   0 169 254 255 132 238 248 243 244 243 245 242 243 244 243 242 251 201 176 255 255 138   0   0   0]\n",
            " [  0   0   0   0 196 246 255  84 247 254 243 245 245 245 245 245 245 245 243 255 189 137 255 254 162   0   0   0]\n",
            " [  0   0   0   0 217 246 255  19 249 245 243 246 247 246 245 245 245 245 241 255 172  98 255 251 211   0   0   0]\n",
            " [  0   0   0   0 192 253 243   0 236 237 231 231 231 230 230 231 231 231 229 241 195  21 252 250 164   0   0   0]\n",
            " [  0   0   0   0 158 255 168   0 255 252 247 250 252 253 253 252 252 252 248 253 250   0 227 255  53   0   0   0]\n",
            " [  0   0   0   0 126 219 124   0   8  33  36  40  62  72  61  61  61  55  44  36   2   0 212 214  47   0   0   0]\n",
            " [  0   0   0   0   0   0   0   0   0   0   0   0   0   0   0   0   0   0   0   0   0   0   0   0   0   0   0   0]]\n"
          ]
        }
      ]
    },
    {
      "cell_type": "code",
      "source": [
        "plt.imshow(train_images[index], cmap='Greys')"
      ],
      "metadata": {
        "colab": {
          "base_uri": "https://localhost:8080/",
          "height": 447
        },
        "id": "l9cp7wZZ8xfb",
        "outputId": "566e4c13-82cb-4283-cc85-5eb5b09d5588"
      },
      "execution_count": 12,
      "outputs": [
        {
          "output_type": "execute_result",
          "data": {
            "text/plain": [
              "<matplotlib.image.AxesImage at 0x7a908d82cb50>"
            ]
          },
          "metadata": {},
          "execution_count": 12
        },
        {
          "output_type": "display_data",
          "data": {
            "text/plain": [
              "<Figure size 640x480 with 1 Axes>"
            ],
            "image/png": "[encoded data removed]"
          },
          "metadata": {}
        }
      ]
    },
    {
      "cell_type": "markdown",
      "source": [
        "Normalizing data to make training of the neural network better and the learning process optimized"
      ],
      "metadata": {
        "id": "J0R3GehO9QAK"
      }
    },
    {
      "cell_type": "code",
      "source": [
        "train_images = train_images / 255.0\n",
        "test_images = test_images / 255.0"
      ],
      "metadata": {
        "id": "7Mn3dZ1V9Q_5"
      },
      "execution_count": 14,
      "outputs": []
    },
    {
      "cell_type": "markdown",
      "source": [
        "Designing the model\n",
        "Flatten to make the square into 1 dimension array"
      ],
      "metadata": {
        "id": "17-8mmnx96r4"
      }
    },
    {
      "cell_type": "code",
      "source": [
        "model = tf.keras.Sequential([tf.keras.layers.Flatten(),\n",
        "                             tf.keras.layers.Dense(512, activation = tf.nn.relu),\n",
        "                             tf.keras.layers.Dense(10, activation = tf.nn.softmax)])"
      ],
      "metadata": {
        "id": "F2ZLsIGs97IL"
      },
      "execution_count": 31,
      "outputs": []
    },
    {
      "cell_type": "code",
      "source": [
        "inputs = np.array([[1.0, 3.0, 4.0, 2.0]])\n",
        "inputs = tf.convert_to_tensor(inputs)\n",
        "print(f'input to softmax function: {inputs.numpy()}')\n",
        "\n",
        "outputs = tf.keras.activations.softmax(inputs)\n",
        "print(f'output of softmax function: {outputs.numpy()}')\n",
        "\n",
        "sum = tf.reduce_sum(outputs)\n",
        "print(f'sum of outputs: {sum}')\n",
        "\n",
        "prediction = np.argmax(outputs)\n",
        "print(f'class with highest probability: {prediction}')\n"
      ],
      "metadata": {
        "colab": {
          "base_uri": "https://localhost:8080/"
        },
        "id": "Lx1BOO6s9Owp",
        "outputId": "aa757438-0925-44d1-a22f-29f427647e91"
      },
      "execution_count": 32,
      "outputs": [
        {
          "output_type": "stream",
          "name": "stdout",
          "text": [
            "input to softmax function: [[1. 3. 4. 2.]]\n",
            "output of softmax function: [[0.0320586  0.23688282 0.64391426 0.08714432]]\n",
            "sum of outputs: 1.0\n",
            "class with highest probability: 2\n"
          ]
        }
      ]
    },
    {
      "cell_type": "code",
      "source": [
        "model.compile(optimizer = tf.optimizers.Adam(),\n",
        "              loss = 'sparse_categorical_crossentropy',\n",
        "              metrics = ['accuracy'])\n",
        "\n",
        "model.fit(train_images, train_labels, epochs = 4)"
      ],
      "metadata": {
        "colab": {
          "base_uri": "https://localhost:8080/"
        },
        "id": "jf7NFoKAR6eL",
        "outputId": "5fc9ba4c-423d-4bae-ca0e-301334a69bb6"
      },
      "execution_count": 33,
      "outputs": [
        {
          "output_type": "stream",
          "name": "stdout",
          "text": [
            "Epoch 1/4\n",
            "1875/1875 [==============================] - 14s 7ms/step - loss: 0.8783 - accuracy: 0.7088\n",
            "Epoch 2/4\n",
            "1875/1875 [==============================] - 13s 7ms/step - loss: 0.5482 - accuracy: 0.8045\n",
            "Epoch 3/4\n",
            "1875/1875 [==============================] - 13s 7ms/step - loss: 0.4879 - accuracy: 0.8275\n",
            "Epoch 4/4\n",
            "1875/1875 [==============================] - 13s 7ms/step - loss: 0.4561 - accuracy: 0.8389\n"
          ]
        },
        {
          "output_type": "execute_result",
          "data": {
            "text/plain": [
              "<keras.src.callbacks.History at 0x7a907e2d2a10>"
            ]
          },
          "metadata": {},
          "execution_count": 33
        }
      ]
    },
    {
      "cell_type": "code",
      "source": [
        "model.evaluate(test_images, test_labels)"
      ],
      "metadata": {
        "colab": {
          "base_uri": "https://localhost:8080/"
        },
        "id": "ZRjcW-pOR6b8",
        "outputId": "e6be951b-12cd-4d5c-9844-fdd7a48522af"
      },
      "execution_count": 34,
      "outputs": [
        {
          "output_type": "stream",
          "name": "stdout",
          "text": [
            "313/313 [==============================] - 1s 2ms/step - loss: 0.4747 - accuracy: 0.8301\n"
          ]
        },
        {
          "output_type": "execute_result",
          "data": {
            "text/plain": [
              "[0.47466129064559937, 0.8300999999046326]"
            ]
          },
          "metadata": {},
          "execution_count": 34
        }
      ]
    },
    {
      "cell_type": "code",
      "source": [],
      "metadata": {
        "id": "nSUWlMZ5R6ZL"
      },
      "execution_count": null,
      "outputs": []
    },
    {
      "cell_type": "code",
      "source": [],
      "metadata": {
        "id": "2Kk--c9_R6Oz"
      },
      "execution_count": null,
      "outputs": []
    },
    {
      "cell_type": "code",
      "source": [],
      "metadata": {
        "id": "exnagppPR5dM"
      },
      "execution_count": null,
      "outputs": []
    }
  ]
}